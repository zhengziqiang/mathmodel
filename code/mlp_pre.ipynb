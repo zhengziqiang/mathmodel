{
 "cells": [
  {
   "cell_type": "code",
   "execution_count": 4,
   "metadata": {
    "collapsed": true
   },
   "outputs": [],
   "source": [
    "import os\n",
    "import numpy as np\n",
    "# import numpy as np\n",
    "import random\n",
    "train_list=set(range(1,836))\n",
    "val=set(random.sample(range(1,836),int(836/5)))\n",
    "train_list=list(train_list-val)\n",
    "val=list(val)"
   ]
  },
  {
   "cell_type": "code",
   "execution_count": 7,
   "metadata": {},
   "outputs": [],
   "source": [
    "out=open(\"C:\\\\Users\\\\Administrator\\\\Desktop\\\\数学建模\\\\train_list.csv\",\"w\")\n",
    "for i in range(len(train_list)):\n",
    "    out.write(str(train_list[i])+'\\n')"
   ]
  },
  {
   "cell_type": "code",
   "execution_count": 9,
   "metadata": {},
   "outputs": [],
   "source": [
    "out=open(\"C:\\\\Users\\\\Administrator\\\\Desktop\\\\数学建模\\\\val_list.csv\",\"w\")\n",
    "for i in range(len(val)):\n",
    "    out.write(str(val[i])+'\\n')"
   ]
  },
  {
   "cell_type": "code",
   "execution_count": 10,
   "metadata": {},
   "outputs": [],
   "source": [
    "import numpy as np\n",
    "data=np.genfromtxt(\"C:\\\\Users\\\\Administrator\\\\Desktop\\\\数学建模\\\\项目一汇总.csv\",dtype=float,delimiter=',')\n",
    "train_data=np.zeros((668,13))\n",
    "val_data=np.zeros((167,13))\n",
    "for i in range(len(train_list)):\n",
    "    train_data[i]=(data[train_list[i]-1,3:])\n",
    "for i in range(len(val)):\n",
    "    val_data[i]=(data[val[i]-1,3:])"
   ]
  },
  {
   "cell_type": "code",
   "execution_count": 12,
   "metadata": {},
   "outputs": [],
   "source": [
    "import numpy as np\n",
    "luwang_data=np.genfromtxt(\"C:\\\\Users\\\\Administrator\\\\Desktop\\\\数学建模\\\\luwang\",dtype=float,delimiter=',')"
   ]
  },
  {
   "cell_type": "code",
   "execution_count": 15,
   "metadata": {},
   "outputs": [
    {
     "name": "stdout",
     "output_type": "stream",
     "text": [
      "835\n"
     ]
    }
   ],
   "source": [
    "print (len(luwang_data))"
   ]
  },
  {
   "cell_type": "code",
   "execution_count": 16,
   "metadata": {},
   "outputs": [
    {
     "name": "stdout",
     "output_type": "stream",
     "text": [
      "0.0999228395062\n"
     ]
    }
   ],
   "source": [
    "print(luwang_data[1])"
   ]
  },
  {
   "cell_type": "code",
   "execution_count": 18,
   "metadata": {},
   "outputs": [],
   "source": [
    "luwang_train=np.zeros((668,1))\n",
    "luwang_val=np.zeros((167,1))"
   ]
  },
  {
   "cell_type": "code",
   "execution_count": 19,
   "metadata": {},
   "outputs": [],
   "source": [
    "for i in range(len(train_list)):\n",
    "    luwang_train[i][0]=(luwang_data[train_list[i]-1])\n",
    "for i in range(len(val)):\n",
    "    luwang_val[i][0]=(luwang_data[val[i]-1])"
   ]
  },
  {
   "cell_type": "code",
   "execution_count": 23,
   "metadata": {},
   "outputs": [],
   "source": [
    "luwang_train=normalize(luwang_train[:,0])\n",
    "luwang_val=normalize(luwang_val[:,0])"
   ]
  },
  {
   "cell_type": "code",
   "execution_count": 24,
   "metadata": {},
   "outputs": [
    {
     "name": "stdout",
     "output_type": "stream",
     "text": [
      "0.354820706013\n"
     ]
    }
   ],
   "source": [
    "print (luwang_train[1])"
   ]
  },
  {
   "cell_type": "code",
   "execution_count": 25,
   "metadata": {},
   "outputs": [],
   "source": [
    "luwang_train=np.reshape(luwang_train,[668,1])\n",
    "luwang_val=np.reshape(luwang_val,[167,1])"
   ]
  },
  {
   "cell_type": "code",
   "execution_count": 11,
   "metadata": {},
   "outputs": [
    {
     "name": "stdout",
     "output_type": "stream",
     "text": [
      "[ -4.82969501e+01  -1.96367664e+00   6.60000000e+01   3.96460000e-02\n   1.68036000e-01   6.91500000e+01   2.86048000e+01   1.39007000e+03\n   1.00000000e+00   6.62346000e+01   3.02099000e+01   3.14217000e+01\n   0.00000000e+00]\n"
     ]
    }
   ],
   "source": [
    "print (train_data[0])"
   ]
  },
  {
   "cell_type": "code",
   "execution_count": 27,
   "metadata": {},
   "outputs": [],
   "source": [
    "all_data_train=np.concatenate([luwang_train,train_data],axis=1)\n",
    "all_data_val=np.concatenate([luwang_val,val_data],axis=1)"
   ]
  },
  {
   "cell_type": "code",
   "execution_count": 30,
   "metadata": {},
   "outputs": [
    {
     "name": "stdout",
     "output_type": "stream",
     "text": [
      "(668, 14)\n1.0\n"
     ]
    }
   ],
   "source": [
    "print (all_data_train.shape)\n",
    "print(all_data_train[2][-1])"
   ]
  },
  {
   "cell_type": "code",
   "execution_count": 31,
   "metadata": {},
   "outputs": [
    {
     "data": {
      "text/plain": [
       "SVC(C=1.0, cache_size=200, class_weight=None, coef0=0.0,\n  decision_function_shape='ovr', degree=3, gamma='auto', kernel='rbf',\n  max_iter=-1, probability=False, random_state=None, shrinking=True,\n  tol=0.001, verbose=False)"
      ]
     },
     "execution_count": 31,
     "metadata": {},
     "output_type": "execute_result"
    }
   ],
   "source": [
    "from sklearn import svm\n",
    "all_train_data_x=all_data_train[:,:13]\n",
    "all_train_data_label=all_data_train[:,-1]\n",
    "clf = svm.SVC()\n",
    "clf.fit(all_train_data_x,all_train_data_label)"
   ]
  },
  {
   "cell_type": "code",
   "execution_count": 33,
   "metadata": {},
   "outputs": [
    {
     "name": "stdout",
     "output_type": "stream",
     "text": [
      "(835, 14)\n"
     ]
    }
   ],
   "source": [
    "all_data=np.concatenate([all_data_train,all_data_val],axis=0)\n",
    "print (np.shape(all_data))"
   ]
  },
  {
   "cell_type": "code",
   "execution_count": 32,
   "metadata": {},
   "outputs": [
    {
     "name": "stdout",
     "output_type": "stream",
     "text": [
      "0.700598802395\n"
     ]
    }
   ],
   "source": [
    "all_val_data_x=all_data_val[:,:13]\n",
    "all_val_data_label=all_data_val[:,-1]\n",
    "predict=clf.predict(all_val_data_x)\n",
    "ratio=np.sum(np.abs(predict-all_val_data_label))/167.0\n",
    "print(1-ratio)"
   ]
  },
  {
   "cell_type": "code",
   "execution_count": 68,
   "metadata": {},
   "outputs": [
    {
     "name": "stdout",
     "output_type": "stream",
     "text": [
      "1.0\n[ 0.56578764  0.0602578   0.70369339  0.025       0.02017761  0.20521994\n  0.28971963  0.59036791  0.09820728  0.19614345  1.        ]\n"
     ]
    }
   ],
   "source": [
    "first=all_data[:,:7]\n",
    "second=all_data[:,10:]\n",
    "select=np.concatenate([first,second],axis=1)\n",
    "print(select[2][-1])\n",
    "print(select[2,:])"
   ]
  },
  {
   "cell_type": "code",
   "execution_count": 69,
   "metadata": {},
   "outputs": [],
   "source": [
    "price=select[:,3]"
   ]
  },
  {
   "cell_type": "code",
   "execution_count": 70,
   "metadata": {},
   "outputs": [],
   "source": [
    "havedone=select[:,-1]"
   ]
  },
  {
   "cell_type": "code",
   "execution_count": 71,
   "metadata": {},
   "outputs": [
    {
     "name": "stdout",
     "output_type": "stream",
     "text": [
      "[ 0.35482071  0.1394752   0.69448368  0.025       0.1685198   0.05148237\n  0.1728972   0.48132913  0.1670835   0.09420245  0.        ]\n"
     ]
    }
   ],
   "source": [
    "print (select[1,:])"
   ]
  },
  {
   "cell_type": "code",
   "execution_count": 72,
   "metadata": {},
   "outputs": [],
   "source": [
    "the_feature=np.delete(select,3,1)"
   ]
  },
  {
   "cell_type": "code",
   "execution_count": 73,
   "metadata": {},
   "outputs": [
    {
     "name": "stdout",
     "output_type": "stream",
     "text": [
      "[ 0.35482071  0.1394752   0.69448368  0.1685198   0.05148237  0.1728972\n  0.48132913  0.1670835   0.09420245  0.        ]\n"
     ]
    }
   ],
   "source": [
    "print(the_feature[1,:])"
   ]
  },
  {
   "cell_type": "code",
   "execution_count": 74,
   "metadata": {},
   "outputs": [],
   "source": [
    "the_feature=np.delete(the_feature,-1,1)"
   ]
  },
  {
   "cell_type": "code",
   "execution_count": 75,
   "metadata": {},
   "outputs": [],
   "source": [
    "price=np.reshape(price,[len(price),1])\n",
    "havedone=np.reshape(havedone,[len(price),1])"
   ]
  },
  {
   "cell_type": "code",
   "execution_count": 76,
   "metadata": {},
   "outputs": [],
   "source": [
    "data=np.concatenate([the_feature,price],axis=1)\n",
    "svm_data=np.concatenate([the_feature,price,havedone],axis=1)"
   ]
  },
  {
   "cell_type": "code",
   "execution_count": 77,
   "metadata": {},
   "outputs": [
    {
     "name": "stdout",
     "output_type": "stream",
     "text": [
      "[ 0.35482071  0.1394752   0.69448368  0.1685198   0.05148237  0.1728972\n  0.48132913  0.1670835   0.09420245  0.025     ]\n"
     ]
    }
   ],
   "source": [
    "print(data[1,:])"
   ]
  },
  {
   "cell_type": "code",
   "execution_count": 78,
   "metadata": {},
   "outputs": [
    {
     "name": "stdout",
     "output_type": "stream",
     "text": [
      "[ 0.35482071  0.1394752   0.69448368  0.1685198   0.05148237  0.1728972\n  0.48132913  0.1670835   0.09420245  0.025       0.        ]\n"
     ]
    }
   ],
   "source": [
    "print(svm_data[1,:])"
   ]
  },
  {
   "cell_type": "code",
   "execution_count": 79,
   "metadata": {},
   "outputs": [],
   "source": [
    "data=np.float64(data)\n",
    "svm_data=np.float64(svm_data)"
   ]
  },
  {
   "cell_type": "code",
   "execution_count": 80,
   "metadata": {},
   "outputs": [
    {
     "name": "stdout",
     "output_type": "stream",
     "text": [
      "(835, 10)\n"
     ]
    }
   ],
   "source": [
    "print(np.shape(data))"
   ]
  },
  {
   "cell_type": "code",
   "execution_count": 81,
   "metadata": {},
   "outputs": [],
   "source": [
    "def write_file(name,data,m,n):\n",
    "    out=open(name,\"w\")\n",
    "    for i in range(m):\n",
    "        for j in range(n-1):\n",
    "            out.write(str(data[i][j])+',')\n",
    "        out.write(str(data[i][-1])+'\\n')\n",
    "    out.close()"
   ]
  },
  {
   "cell_type": "code",
   "execution_count": 82,
   "metadata": {},
   "outputs": [],
   "source": [
    "write_file(\"C:\\\\Users\\\\Administrator\\\\Desktop\\\\数学建模\\\\b-1-data.csv\",data,835,10)\n",
    "write_file(\"C:\\\\Users\\\\Administrator\\\\Desktop\\\\数学建模\\\\b-1-svm.csv\",svm_data,835,11)"
   ]
  },
  {
   "cell_type": "code",
   "execution_count": 54,
   "metadata": {},
   "outputs": [
    {
     "ename": "TypeError",
     "evalue": "Mismatch between array dtype ('float32') and format specifier ('%.8f,%.8f,%.8f,%.8f,%.8f,%.8f,%.8f,%.8f,%.8f,%.8f')",
     "traceback": [
      "\u001b[1;31m---------------------------------------------------------------------------\u001b[0m",
      "\u001b[1;31mTypeError\u001b[0m                                 Traceback (most recent call last)",
      "\u001b[1;32m~\\AppData\\Local\\Programs\\Python\\Python35\\lib\\site-packages\\numpy\\lib\\npyio.py\u001b[0m in \u001b[0;36msavetxt\u001b[1;34m(fname, X, fmt, delimiter, newline, header, footer, comments)\u001b[0m\n\u001b[0;32m   1253\u001b[0m                 \u001b[1;32mtry\u001b[0m\u001b[1;33m:\u001b[0m\u001b[1;33m\u001b[0m\u001b[0m\n\u001b[1;32m-> 1254\u001b[1;33m                     \u001b[0mfh\u001b[0m\u001b[1;33m.\u001b[0m\u001b[0mwrite\u001b[0m\u001b[1;33m(\u001b[0m\u001b[0masbytes\u001b[0m\u001b[1;33m(\u001b[0m\u001b[0mformat\u001b[0m \u001b[1;33m%\u001b[0m \u001b[0mtuple\u001b[0m\u001b[1;33m(\u001b[0m\u001b[0mrow\u001b[0m\u001b[1;33m)\u001b[0m \u001b[1;33m+\u001b[0m \u001b[0mnewline\u001b[0m\u001b[1;33m)\u001b[0m\u001b[1;33m)\u001b[0m\u001b[1;33m\u001b[0m\u001b[0m\n\u001b[0m\u001b[0;32m   1255\u001b[0m                 \u001b[1;32mexcept\u001b[0m \u001b[0mTypeError\u001b[0m\u001b[1;33m:\u001b[0m\u001b[1;33m\u001b[0m\u001b[0m\n",
      "\u001b[1;31mTypeError\u001b[0m: write() argument must be str, not bytes",
      "\nDuring handling of the above exception, another exception occurred:\n",
      "\u001b[1;31mTypeError\u001b[0m                                 Traceback (most recent call last)",
      "\u001b[1;32m<ipython-input-54-2e43f3be12c1>\u001b[0m in \u001b[0;36m<module>\u001b[1;34m()\u001b[0m\n\u001b[0;32m      1\u001b[0m \u001b[1;32mwith\u001b[0m \u001b[0mopen\u001b[0m\u001b[1;33m(\u001b[0m\u001b[1;34m\"C:\\\\Users\\\\Administrator\\\\Desktop\\\\数学建模\\\\b-1-data.csv\"\u001b[0m\u001b[1;33m,\u001b[0m\u001b[1;34m\"w\"\u001b[0m\u001b[1;33m)\u001b[0m \u001b[1;32mas\u001b[0m \u001b[0mfoo\u001b[0m\u001b[1;33m:\u001b[0m\u001b[1;33m\u001b[0m\u001b[0m\n\u001b[1;32m----> 2\u001b[1;33m     \u001b[0mnp\u001b[0m\u001b[1;33m.\u001b[0m\u001b[0msavetxt\u001b[0m\u001b[1;33m(\u001b[0m\u001b[0mfoo\u001b[0m\u001b[1;33m,\u001b[0m\u001b[0mdata\u001b[0m\u001b[1;33m,\u001b[0m\u001b[0mfmt\u001b[0m\u001b[1;33m=\u001b[0m\u001b[1;34m'%.8f'\u001b[0m\u001b[1;33m,\u001b[0m\u001b[0mdelimiter\u001b[0m\u001b[1;33m=\u001b[0m\u001b[1;34m','\u001b[0m\u001b[1;33m)\u001b[0m\u001b[1;33m\u001b[0m\u001b[0m\n\u001b[0m\u001b[0;32m      3\u001b[0m \u001b[1;32mwith\u001b[0m \u001b[0mopen\u001b[0m\u001b[1;33m(\u001b[0m\u001b[1;34m\"C:\\\\Users\\\\Administrator\\\\Desktop\\\\数学建模\\\\b-1-svm.csv\"\u001b[0m\u001b[1;33m,\u001b[0m\u001b[1;34m\"w\"\u001b[0m\u001b[1;33m)\u001b[0m \u001b[1;32mas\u001b[0m \u001b[0mfoo\u001b[0m\u001b[1;33m:\u001b[0m\u001b[1;33m\u001b[0m\u001b[0m\n\u001b[0;32m      4\u001b[0m     \u001b[0mnp\u001b[0m\u001b[1;33m.\u001b[0m\u001b[0msavetxt\u001b[0m\u001b[1;33m(\u001b[0m\u001b[0mfoo\u001b[0m\u001b[1;33m,\u001b[0m\u001b[0msvm_data\u001b[0m\u001b[1;33m,\u001b[0m\u001b[0mfmt\u001b[0m\u001b[1;33m=\u001b[0m\u001b[1;34m'%.8f'\u001b[0m\u001b[1;33m,\u001b[0m\u001b[0mdelimiter\u001b[0m\u001b[1;33m=\u001b[0m\u001b[1;34m','\u001b[0m\u001b[1;33m)\u001b[0m\u001b[1;33m\u001b[0m\u001b[0m\n",
      "\u001b[1;32m~\\AppData\\Local\\Programs\\Python\\Python35\\lib\\site-packages\\numpy\\lib\\npyio.py\u001b[0m in \u001b[0;36msavetxt\u001b[1;34m(fname, X, fmt, delimiter, newline, header, footer, comments)\u001b[0m\n\u001b[0;32m   1256\u001b[0m                     raise TypeError(\"Mismatch between array dtype ('%s') and \"\n\u001b[0;32m   1257\u001b[0m                                     \u001b[1;34m\"format specifier ('%s')\"\u001b[0m\u001b[1;33m\u001b[0m\u001b[0m\n\u001b[1;32m-> 1258\u001b[1;33m                                     % (str(X.dtype), format))\n\u001b[0m\u001b[0;32m   1259\u001b[0m         \u001b[1;32mif\u001b[0m \u001b[0mlen\u001b[0m\u001b[1;33m(\u001b[0m\u001b[0mfooter\u001b[0m\u001b[1;33m)\u001b[0m \u001b[1;33m>\u001b[0m \u001b[1;36m0\u001b[0m\u001b[1;33m:\u001b[0m\u001b[1;33m\u001b[0m\u001b[0m\n\u001b[0;32m   1260\u001b[0m             \u001b[0mfooter\u001b[0m \u001b[1;33m=\u001b[0m \u001b[0mfooter\u001b[0m\u001b[1;33m.\u001b[0m\u001b[0mreplace\u001b[0m\u001b[1;33m(\u001b[0m\u001b[1;34m'\\n'\u001b[0m\u001b[1;33m,\u001b[0m \u001b[1;34m'\\n'\u001b[0m \u001b[1;33m+\u001b[0m \u001b[0mcomments\u001b[0m\u001b[1;33m)\u001b[0m\u001b[1;33m\u001b[0m\u001b[0m\n",
      "\u001b[1;31mTypeError\u001b[0m: Mismatch between array dtype ('float32') and format specifier ('%.8f,%.8f,%.8f,%.8f,%.8f,%.8f,%.8f,%.8f,%.8f,%.8f')"
     ],
     "output_type": "error"
    }
   ],
   "source": [
    "with open(\"C:\\\\Users\\\\Administrator\\\\Desktop\\\\数学建模\\\\b-1-data.csv\",\"w\") as foo:\n",
    "    np.savetxt(foo,data,fmt='%.8f',delimiter=',')\n",
    "with open(\"C:\\\\Users\\\\Administrator\\\\Desktop\\\\数学建模\\\\b-1-svm.csv\",\"w\") as foo:\n",
    "    np.savetxt(foo,svm_data,fmt='%.8f',delimiter=',')"
   ]
  },
  {
   "cell_type": "code",
   "execution_count": 44,
   "metadata": {},
   "outputs": [
    {
     "name": "stdout",
     "output_type": "stream",
     "text": [
      "[ 0.35482071  0.1394752   0.025       0.1685198   0.05148237  0.1728972\n  0.48132913  0.1670835   0.09420245]\n"
     ]
    }
   ],
   "source": [
    "print(the_feature[1,:])"
   ]
  },
  {
   "cell_type": "code",
   "execution_count": 20,
   "metadata": {},
   "outputs": [],
   "source": [
    "def normalize(x):\n",
    "    min_x=np.min(x)\n",
    "    max_x=np.max(x)\n",
    "    for i in range(len(x)):\n",
    "        x[i]=(x[i]-min_x)/(max_x-min_x)\n",
    "    return x"
   ]
  },
  {
   "cell_type": "code",
   "execution_count": 21,
   "metadata": {},
   "outputs": [
    {
     "name": "stdout",
     "output_type": "stream",
     "text": [
      "(668, 13)\n"
     ]
    }
   ],
   "source": [
    "print (train_data.shape)"
   ]
  },
  {
   "cell_type": "code",
   "execution_count": 22,
   "metadata": {},
   "outputs": [],
   "source": [
    "for i in range(12):\n",
    "    train_data[:,i]=normalize(train_data[:,i])\n",
    "    val_data[:,i]=normalize(val_data[:,i])"
   ]
  },
  {
   "cell_type": "code",
   "execution_count": 28,
   "metadata": {},
   "outputs": [
    {
     "name": "stdout",
     "output_type": "stream",
     "text": [
      "[  6.02577977e-02   7.03693389e-01   2.50000000e-02   2.01776119e-02\n   2.06075229e-01   2.79279279e-01   5.51206403e-03   6.24299341e-06\n   1.00000000e+00   6.00159233e-01   9.82072792e-02   1.96143447e-01\n   1.00000000e+00]\n"
     ]
    }
   ],
   "source": [
    "print (train_data[2])"
   ]
  },
  {
   "cell_type": "code",
   "execution_count": 29,
   "metadata": {},
   "outputs": [
    {
     "data": {
      "text/plain": [
       "SVC(C=1.0, cache_size=200, class_weight=None, coef0=0.0,\n  decision_function_shape=None, degree=3, gamma='auto', kernel='rbf',\n  max_iter=-1, probability=False, random_state=None, shrinking=True,\n  tol=0.001, verbose=False)"
      ]
     },
     "execution_count": 29,
     "metadata": {},
     "output_type": "execute_result"
    }
   ],
   "source": [
    "from sklearn import svm\n",
    "train_data_x=train_data[:,1:13]\n",
    "train_data_label=train_data[:,-1]\n",
    "clf = svm.SVC()\n",
    "clf.fit(train_data_x,train_data_label)"
   ]
  },
  {
   "cell_type": "code",
   "execution_count": 32,
   "metadata": {},
   "outputs": [],
   "source": [
    "val_data_x=val_data[:,1:12]\n",
    "val_data_label=val_data[:,-1]\n",
    "predict=clf.predict(val_data_x)\n",
    "ratio=np.sum(np.abs(predict-val_data_label))/167.0\n",
    "print(1-ratio)"
   ]
  },
  {
   "cell_type": "code",
   "execution_count": 34,
   "metadata": {},
   "outputs": [
    {
     "name": "stdout",
     "output_type": "stream",
     "text": [
      "0.766467065868\n"
     ]
    }
   ],
   "source": [
    "print(1-ratio)"
   ]
  },
  {
   "cell_type": "code",
   "execution_count": 35,
   "metadata": {},
   "outputs": [
    {
     "name": "stdout",
     "output_type": "stream",
     "text": [
      "0.676646706587\n"
     ]
    }
   ],
   "source": [
    "from sklearn import svm\n",
    "train_data_x=train_data[:,1:12]\n",
    "train_data_label=train_data[:,-1]\n",
    "clf = svm.LinearSVC()\n",
    "clf.fit(train_data_x,train_data_label)\n",
    "val_data_x=val_data[:,1:12]\n",
    "val_data_label=val_data[:,-1]\n",
    "predict=clf.predict(val_data_x)\n",
    "ratio=np.sum(np.abs(predict-val_data_label))/167.0\n",
    "print(1-ratio)"
   ]
  },
  {
   "cell_type": "code",
   "execution_count": 36,
   "metadata": {},
   "outputs": [
    {
     "name": "stdout",
     "output_type": "stream",
     "text": [
      "0.724550898204\n"
     ]
    }
   ],
   "source": [
    "from sklearn import svm\n",
    "train_data_x=train_data[:,1:12]\n",
    "train_data_label=train_data[:,-1]\n",
    "clf = svm.NuSVC()\n",
    "clf.fit(train_data_x,train_data_label)\n",
    "val_data_x=val_data[:,1:12]\n",
    "val_data_label=val_data[:,-1]\n",
    "predict=clf.predict(val_data_x)\n",
    "ratio=np.sum(np.abs(predict-val_data_label))/167.0\n",
    "print(1-ratio)"
   ]
  },
  {
   "cell_type": "code",
   "execution_count": 38,
   "metadata": {},
   "outputs": [
    {
     "ename": "ModuleNotFoundError",
     "evalue": "No module named 'tensorflow'",
     "traceback": [
      "\u001b[1;31m---------------------------------------------------------------------------\u001b[0m",
      "\u001b[1;31mModuleNotFoundError\u001b[0m                       Traceback (most recent call last)",
      "\u001b[1;32m<ipython-input-38-a51df7ddf761>\u001b[0m in \u001b[0;36m<module>\u001b[1;34m()\u001b[0m\n\u001b[0;32m      1\u001b[0m \u001b[1;32mimport\u001b[0m \u001b[0mmatplotlib\u001b[0m\u001b[1;33m.\u001b[0m\u001b[0mpyplot\u001b[0m \u001b[1;32mas\u001b[0m \u001b[0mplt\u001b[0m\u001b[1;33m\u001b[0m\u001b[0m\n\u001b[0;32m      2\u001b[0m \u001b[1;32mimport\u001b[0m \u001b[0mnumpy\u001b[0m \u001b[1;32mas\u001b[0m \u001b[0mnp\u001b[0m\u001b[1;33m\u001b[0m\u001b[0m\n\u001b[1;32m----> 3\u001b[1;33m \u001b[1;32mimport\u001b[0m \u001b[0mtensorflow\u001b[0m \u001b[1;32mas\u001b[0m \u001b[0mtf\u001b[0m\u001b[1;33m\u001b[0m\u001b[0m\n\u001b[0m\u001b[0;32m      4\u001b[0m \u001b[1;32mfrom\u001b[0m \u001b[0medward\u001b[0m\u001b[1;33m.\u001b[0m\u001b[0mmodels\u001b[0m \u001b[1;32mimport\u001b[0m \u001b[0mNormal\u001b[0m\u001b[1;33m\u001b[0m\u001b[0m\n",
      "\u001b[1;31mModuleNotFoundError\u001b[0m: No module named 'tensorflow'"
     ],
     "output_type": "error"
    }
   ],
   "source": [
    "import matplotlib.pyplot as plt\n",
    "import numpy as np\n",
    "import tensorflow as tf\n",
    "from edward.models import Normal"
   ]
  },
  {
   "cell_type": "code",
   "execution_count": 86,
   "metadata": {},
   "outputs": [],
   "source": [
    "import pandas as pd\n",
    "svm_head = pd.read_csv('C:\\\\Users\\\\Administrator\\\\Desktop\\\\数学建模\\\\svm-head.csv')"
   ]
  },
  {
   "cell_type": "code",
   "execution_count": 87,
   "metadata": {},
   "outputs": [
    {
     "data": {
      "text/html": [
       "<div>\n",
       "<style>\n",
       "    .dataframe thead tr:only-child th {\n",
       "        text-align: right;\n",
       "    }\n",
       "\n",
       "    .dataframe thead th {\n",
       "        text-align: left;\n",
       "    }\n",
       "\n",
       "    .dataframe tbody tr th {\n",
       "        vertical-align: top;\n",
       "    }\n",
       "</style>\n",
       "<table border=\"1\" class=\"dataframe\">\n",
       "  <thead>\n",
       "    <tr style=\"text-align: right;\">\n",
       "      <th></th>\n",
       "      <th>lat</th>\n",
       "      <th>lng</th>\n",
       "      <th>road</th>\n",
       "      <th>user</th>\n",
       "      <th>task</th>\n",
       "      <th>ten</th>\n",
       "      <th>first</th>\n",
       "      <th>second</th>\n",
       "      <th>third</th>\n",
       "      <th>price</th>\n",
       "      <th>done</th>\n",
       "    </tr>\n",
       "  </thead>\n",
       "  <tbody>\n",
       "    <tr>\n",
       "      <th>0</th>\n",
       "      <td>0.119939</td>\n",
       "      <td>0.052772</td>\n",
       "      <td>0.716751</td>\n",
       "      <td>0.021338</td>\n",
       "      <td>0.156988</td>\n",
       "      <td>0.373832</td>\n",
       "      <td>0.613592</td>\n",
       "      <td>0.084556</td>\n",
       "      <td>0.208631</td>\n",
       "      <td>0.050</td>\n",
       "      <td>0.0</td>\n",
       "    </tr>\n",
       "    <tr>\n",
       "      <th>1</th>\n",
       "      <td>0.354821</td>\n",
       "      <td>0.139475</td>\n",
       "      <td>0.694484</td>\n",
       "      <td>0.168520</td>\n",
       "      <td>0.051482</td>\n",
       "      <td>0.172897</td>\n",
       "      <td>0.481329</td>\n",
       "      <td>0.167084</td>\n",
       "      <td>0.094202</td>\n",
       "      <td>0.025</td>\n",
       "      <td>0.0</td>\n",
       "    </tr>\n",
       "    <tr>\n",
       "      <th>2</th>\n",
       "      <td>0.565788</td>\n",
       "      <td>0.060258</td>\n",
       "      <td>0.703693</td>\n",
       "      <td>0.020178</td>\n",
       "      <td>0.205220</td>\n",
       "      <td>0.289720</td>\n",
       "      <td>0.590368</td>\n",
       "      <td>0.098207</td>\n",
       "      <td>0.196143</td>\n",
       "      <td>0.025</td>\n",
       "      <td>1.0</td>\n",
       "    </tr>\n",
       "    <tr>\n",
       "      <th>3</th>\n",
       "      <td>0.231589</td>\n",
       "      <td>0.051699</td>\n",
       "      <td>0.862435</td>\n",
       "      <td>0.025670</td>\n",
       "      <td>0.034184</td>\n",
       "      <td>0.130841</td>\n",
       "      <td>0.798883</td>\n",
       "      <td>0.072495</td>\n",
       "      <td>0.322934</td>\n",
       "      <td>0.500</td>\n",
       "      <td>0.0</td>\n",
       "    </tr>\n",
       "    <tr>\n",
       "      <th>4</th>\n",
       "      <td>0.686842</td>\n",
       "      <td>0.047528</td>\n",
       "      <td>0.700116</td>\n",
       "      <td>0.019504</td>\n",
       "      <td>0.340247</td>\n",
       "      <td>0.144860</td>\n",
       "      <td>0.603330</td>\n",
       "      <td>0.090829</td>\n",
       "      <td>0.211728</td>\n",
       "      <td>0.025</td>\n",
       "      <td>0.0</td>\n",
       "    </tr>\n",
       "  </tbody>\n",
       "</table>\n",
       "</div>"
      ],
      "text/plain": [
       "<div>\n",
       "<style>\n",
       "    .dataframe thead tr:only-child th {\n",
       "        text-align: right;\n",
       "    }\n",
       "\n",
       "    .dataframe thead th {\n",
       "        text-align: left;\n",
       "    }\n",
       "\n",
       "    .dataframe tbody tr th {\n",
       "        vertical-align: top;\n",
       "    }\n",
       "</style>\n",
       "<table border=\"1\" class=\"dataframe\">\n",
       "  <thead>\n",
       "    <tr style=\"text-align: right;\">\n",
       "      <th></th>\n",
       "      <th>lat</th>\n",
       "      <th>lng</th>\n",
       "      <th>road</th>\n",
       "      <th>user</th>\n",
       "      <th>task</th>\n",
       "      <th>ten</th>\n",
       "      <th>first</th>\n",
       "      <th>second</th>\n",
       "      <th>third</th>\n",
       "      <th>price</th>\n",
       "      <th>done</th>\n",
       "    </tr>\n",
       "  </thead>\n",
       "  <tbody>\n",
       "    <tr>\n",
       "      <th>0</th>\n",
       "      <td>0.119939</td>\n",
       "      <td>0.052772</td>\n",
       "      <td>0.716751</td>\n",
       "      <td>0.021338</td>\n",
       "      <td>0.156988</td>\n",
       "      <td>0.373832</td>\n",
       "      <td>0.613592</td>\n",
       "      <td>0.084556</td>\n",
       "      <td>0.208631</td>\n",
       "      <td>0.050</td>\n",
       "      <td>0.0</td>\n",
       "    </tr>\n",
       "    <tr>\n",
       "      <th>1</th>\n",
       "      <td>0.354821</td>\n",
       "      <td>0.139475</td>\n",
       "      <td>0.694484</td>\n",
       "      <td>0.168520</td>\n",
       "      <td>0.051482</td>\n",
       "      <td>0.172897</td>\n",
       "      <td>0.481329</td>\n",
       "      <td>0.167084</td>\n",
       "      <td>0.094202</td>\n",
       "      <td>0.025</td>\n",
       "      <td>0.0</td>\n",
       "    </tr>\n",
       "    <tr>\n",
       "      <th>2</th>\n",
       "      <td>0.565788</td>\n",
       "      <td>0.060258</td>\n",
       "      <td>0.703693</td>\n",
       "      <td>0.020178</td>\n",
       "      <td>0.205220</td>\n",
       "      <td>0.289720</td>\n",
       "      <td>0.590368</td>\n",
       "      <td>0.098207</td>\n",
       "      <td>0.196143</td>\n",
       "      <td>0.025</td>\n",
       "      <td>1.0</td>\n",
       "    </tr>\n",
       "    <tr>\n",
       "      <th>3</th>\n",
       "      <td>0.231589</td>\n",
       "      <td>0.051699</td>\n",
       "      <td>0.862435</td>\n",
       "      <td>0.025670</td>\n",
       "      <td>0.034184</td>\n",
       "      <td>0.130841</td>\n",
       "      <td>0.798883</td>\n",
       "      <td>0.072495</td>\n",
       "      <td>0.322934</td>\n",
       "      <td>0.500</td>\n",
       "      <td>0.0</td>\n",
       "    </tr>\n",
       "    <tr>\n",
       "      <th>4</th>\n",
       "      <td>0.686842</td>\n",
       "      <td>0.047528</td>\n",
       "      <td>0.700116</td>\n",
       "      <td>0.019504</td>\n",
       "      <td>0.340247</td>\n",
       "      <td>0.144860</td>\n",
       "      <td>0.603330</td>\n",
       "      <td>0.090829</td>\n",
       "      <td>0.211728</td>\n",
       "      <td>0.025</td>\n",
       "      <td>0.0</td>\n",
       "    </tr>\n",
       "  </tbody>\n",
       "</table>\n",
       "</div>"
      ]
     },
     "execution_count": 87,
     "metadata": {},
     "output_type": "execute_result"
    }
   ],
   "source": [
    "# from pandas.tools.plotting import andrews_curves\n",
    "# \n",
    "# plt.figure()\n",
    "# \n",
    "# andrews_curves(data, 'Name')\n",
    "svm_head.head()"
   ]
  },
  {
   "cell_type": "code",
   "execution_count": 97,
   "metadata": {},
   "outputs": [
    {
     "data": {
      "text/html": [
       "<div>\n",
       "<style>\n",
       "    .dataframe thead tr:only-child th {\n",
       "        text-align: right;\n",
       "    }\n",
       "\n",
       "    .dataframe thead th {\n",
       "        text-align: left;\n",
       "    }\n",
       "\n",
       "    .dataframe tbody tr th {\n",
       "        vertical-align: top;\n",
       "    }\n",
       "</style>\n",
       "<table border=\"1\" class=\"dataframe\">\n",
       "  <thead>\n",
       "    <tr style=\"text-align: right;\">\n",
       "      <th></th>\n",
       "      <th>lat</th>\n",
       "      <th>lng</th>\n",
       "      <th>road</th>\n",
       "      <th>user</th>\n",
       "      <th>task</th>\n",
       "      <th>ten</th>\n",
       "      <th>first</th>\n",
       "      <th>second</th>\n",
       "      <th>third</th>\n",
       "      <th>price</th>\n",
       "      <th>done</th>\n",
       "    </tr>\n",
       "  </thead>\n",
       "  <tbody>\n",
       "    <tr>\n",
       "      <th>0</th>\n",
       "      <td>0.119939</td>\n",
       "      <td>0.052772</td>\n",
       "      <td>0.716751</td>\n",
       "      <td>0.021338</td>\n",
       "      <td>0.156988</td>\n",
       "      <td>0.373832</td>\n",
       "      <td>0.613592</td>\n",
       "      <td>0.084556</td>\n",
       "      <td>0.208631</td>\n",
       "      <td>0.050</td>\n",
       "      <td>0.0</td>\n",
       "    </tr>\n",
       "    <tr>\n",
       "      <th>1</th>\n",
       "      <td>0.354821</td>\n",
       "      <td>0.139475</td>\n",
       "      <td>0.694484</td>\n",
       "      <td>0.168520</td>\n",
       "      <td>0.051482</td>\n",
       "      <td>0.172897</td>\n",
       "      <td>0.481329</td>\n",
       "      <td>0.167084</td>\n",
       "      <td>0.094202</td>\n",
       "      <td>0.025</td>\n",
       "      <td>0.0</td>\n",
       "    </tr>\n",
       "    <tr>\n",
       "      <th>2</th>\n",
       "      <td>0.565788</td>\n",
       "      <td>0.060258</td>\n",
       "      <td>0.703693</td>\n",
       "      <td>0.020178</td>\n",
       "      <td>0.205220</td>\n",
       "      <td>0.289720</td>\n",
       "      <td>0.590368</td>\n",
       "      <td>0.098207</td>\n",
       "      <td>0.196143</td>\n",
       "      <td>0.025</td>\n",
       "      <td>1.0</td>\n",
       "    </tr>\n",
       "    <tr>\n",
       "      <th>3</th>\n",
       "      <td>0.231589</td>\n",
       "      <td>0.051699</td>\n",
       "      <td>0.862435</td>\n",
       "      <td>0.025670</td>\n",
       "      <td>0.034184</td>\n",
       "      <td>0.130841</td>\n",
       "      <td>0.798883</td>\n",
       "      <td>0.072495</td>\n",
       "      <td>0.322934</td>\n",
       "      <td>0.500</td>\n",
       "      <td>0.0</td>\n",
       "    </tr>\n",
       "    <tr>\n",
       "      <th>4</th>\n",
       "      <td>0.686842</td>\n",
       "      <td>0.047528</td>\n",
       "      <td>0.700116</td>\n",
       "      <td>0.019504</td>\n",
       "      <td>0.340247</td>\n",
       "      <td>0.144860</td>\n",
       "      <td>0.603330</td>\n",
       "      <td>0.090829</td>\n",
       "      <td>0.211728</td>\n",
       "      <td>0.025</td>\n",
       "      <td>0.0</td>\n",
       "    </tr>\n",
       "  </tbody>\n",
       "</table>\n",
       "</div>"
      ],
      "text/plain": [
       "<div>\n",
       "<style>\n",
       "    .dataframe thead tr:only-child th {\n",
       "        text-align: right;\n",
       "    }\n",
       "\n",
       "    .dataframe thead th {\n",
       "        text-align: left;\n",
       "    }\n",
       "\n",
       "    .dataframe tbody tr th {\n",
       "        vertical-align: top;\n",
       "    }\n",
       "</style>\n",
       "<table border=\"1\" class=\"dataframe\">\n",
       "  <thead>\n",
       "    <tr style=\"text-align: right;\">\n",
       "      <th></th>\n",
       "      <th>lat</th>\n",
       "      <th>lng</th>\n",
       "      <th>road</th>\n",
       "      <th>user</th>\n",
       "      <th>task</th>\n",
       "      <th>ten</th>\n",
       "      <th>first</th>\n",
       "      <th>second</th>\n",
       "      <th>third</th>\n",
       "      <th>price</th>\n",
       "      <th>done</th>\n",
       "    </tr>\n",
       "  </thead>\n",
       "  <tbody>\n",
       "    <tr>\n",
       "      <th>0</th>\n",
       "      <td>0.119939</td>\n",
       "      <td>0.052772</td>\n",
       "      <td>0.716751</td>\n",
       "      <td>0.021338</td>\n",
       "      <td>0.156988</td>\n",
       "      <td>0.373832</td>\n",
       "      <td>0.613592</td>\n",
       "      <td>0.084556</td>\n",
       "      <td>0.208631</td>\n",
       "      <td>0.050</td>\n",
       "      <td>0.0</td>\n",
       "    </tr>\n",
       "    <tr>\n",
       "      <th>1</th>\n",
       "      <td>0.354821</td>\n",
       "      <td>0.139475</td>\n",
       "      <td>0.694484</td>\n",
       "      <td>0.168520</td>\n",
       "      <td>0.051482</td>\n",
       "      <td>0.172897</td>\n",
       "      <td>0.481329</td>\n",
       "      <td>0.167084</td>\n",
       "      <td>0.094202</td>\n",
       "      <td>0.025</td>\n",
       "      <td>0.0</td>\n",
       "    </tr>\n",
       "    <tr>\n",
       "      <th>2</th>\n",
       "      <td>0.565788</td>\n",
       "      <td>0.060258</td>\n",
       "      <td>0.703693</td>\n",
       "      <td>0.020178</td>\n",
       "      <td>0.205220</td>\n",
       "      <td>0.289720</td>\n",
       "      <td>0.590368</td>\n",
       "      <td>0.098207</td>\n",
       "      <td>0.196143</td>\n",
       "      <td>0.025</td>\n",
       "      <td>1.0</td>\n",
       "    </tr>\n",
       "    <tr>\n",
       "      <th>3</th>\n",
       "      <td>0.231589</td>\n",
       "      <td>0.051699</td>\n",
       "      <td>0.862435</td>\n",
       "      <td>0.025670</td>\n",
       "      <td>0.034184</td>\n",
       "      <td>0.130841</td>\n",
       "      <td>0.798883</td>\n",
       "      <td>0.072495</td>\n",
       "      <td>0.322934</td>\n",
       "      <td>0.500</td>\n",
       "      <td>0.0</td>\n",
       "    </tr>\n",
       "    <tr>\n",
       "      <th>4</th>\n",
       "      <td>0.686842</td>\n",
       "      <td>0.047528</td>\n",
       "      <td>0.700116</td>\n",
       "      <td>0.019504</td>\n",
       "      <td>0.340247</td>\n",
       "      <td>0.144860</td>\n",
       "      <td>0.603330</td>\n",
       "      <td>0.090829</td>\n",
       "      <td>0.211728</td>\n",
       "      <td>0.025</td>\n",
       "      <td>0.0</td>\n",
       "    </tr>\n",
       "  </tbody>\n",
       "</table>\n",
       "</div>"
      ]
     },
     "execution_count": 97,
     "metadata": {},
     "output_type": "execute_result"
    }
   ],
   "source": [
    "svm_head.head()"
   ]
  },
  {
   "cell_type": "code",
   "execution_count": 98,
   "metadata": {},
   "outputs": [],
   "source": [
    "%matplotlib inline\n",
    "import numpy as np\n",
    "import matplotlib.pyplot as plt\n",
    "import pandas\n",
    "# from pandas.tools.plotting import  andrews_curves\n",
    "from pandas.plotting import  andrews_curves\n",
    "\n",
    "andrews_curves(svm_head, 'done')\n",
    "plt.figure()\n",
    "plt.savefig(\"C:\\\\Users\\\\Administrator\\\\Desktop\\\\数学建模\\\\svm_multitional_visual.png\")"
   ]
  },
  {
   "cell_type": "code",
   "execution_count": 99,
   "metadata": {},
   "outputs": [
    {
     "data": {
      "text/plain": [
       "<matplotlib.figure.Figure at 0x1355cd9f6a0>"
      ]
     },
     "execution_count": 99,
     "metadata": {},
     "output_type": "execute_result"
    },
    {
     "data": {
      "text/plain": [
       "<matplotlib.figure.Figure at 0x1355cd9f6a0>"
      ]
     },
     "execution_count": 0,
     "metadata": {},
     "output_type": "execute_result"
    }
   ],
   "source": [
    "plt.figure()"
   ]
  },
  {
   "cell_type": "code",
   "execution_count": 100,
   "metadata": {},
   "outputs": [
    {
     "data": {
      "text/plain": [
       "<matplotlib.axes._subplots.AxesSubplot at 0x13562a270f0>"
      ]
     },
     "execution_count": 100,
     "metadata": {},
     "output_type": "execute_result"
    }
   ],
   "source": [
    "andrews_curves(svm_head, 'done')"
   ]
  },
  {
   "cell_type": "code",
   "execution_count": 101,
   "metadata": {},
   "outputs": [],
   "source": [
    ""
   ]
  },
  {
   "cell_type": "code",
   "execution_count": null,
   "metadata": {},
   "outputs": [],
   "source": [
    "from pandas.plotting import parallel_coordinates"
   ]
  },
  {
   "cell_type": "code",
   "execution_count": 112,
   "metadata": {},
   "outputs": [],
   "source": [
    "reset_data=np.genfromtxt(\"C:\\\\Users\\\\Administrator\\\\Desktop\\\\数学建模\\\\reset\",dtype=float,delimiter=',')"
   ]
  },
  {
   "cell_type": "code",
   "execution_count": 113,
   "metadata": {},
   "outputs": [
    {
     "name": "stdout",
     "output_type": "stream",
     "text": [
      "[             nan   2.26862053e+01   1.13940525e+02  -3.49326960e+01\n  -6.09441972e+00   4.34617000e-01   5.66943000e-02   6.70000000e+01\n   3.95336000e+03   0.00000000e+00   1.31416000e+01   8.36162000e+01\n   2.93505000e+01   9.00848770e-02   6.55000000e+01   0.00000000e+00]\n"
     ]
    }
   ],
   "source": [
    "print(reset_data[1,:])"
   ]
  },
  {
   "cell_type": "code",
   "execution_count": 114,
   "metadata": {},
   "outputs": [
    {
     "name": "stdout",
     "output_type": "stream",
     "text": [
      "(835, 13)\n"
     ]
    }
   ],
   "source": [
    "reset_data=reset_data[:,3:]\n",
    "print(np.shape(reset_data))"
   ]
  },
  {
   "cell_type": "code",
   "execution_count": 109,
   "metadata": {},
   "outputs": [
    {
     "name": "stdout",
     "output_type": "stream",
     "text": [
      "[ -4.82969501e+01  -4.82969501e+01   3.74939000e-02   1.68036000e-01\n   6.91500000e+01   2.86048000e+01   0.00000000e+00   1.18729000e+01\n   9.51113000e+01   4.32941000e+01   2.43981480e-02   6.60000000e+01\n   0.00000000e+00]\n"
     ]
    }
   ],
   "source": [
    "print(reset_data[1,:])"
   ]
  },
  {
   "cell_type": "code",
   "execution_count": 115,
   "metadata": {},
   "outputs": [],
   "source": [
    "for i in range(13):\n",
    "    reset_data[:,i]=normalize(reset_data[:,i])"
   ]
  },
  {
   "cell_type": "code",
   "execution_count": 116,
   "metadata": {},
   "outputs": [
    {
     "name": "stdout",
     "output_type": "stream",
     "text": [
      "[ 0.1394752   0.69448368  0.26157798  0.0525031   0.16666667  0.902989    0.\n  0.08342591  0.60081124  0.23147686  0.33060495  0.025       0.        ]\n"
     ]
    }
   ],
   "source": [
    "print(reset_data[1,:])"
   ]
  },
  {
   "cell_type": "code",
   "execution_count": 118,
   "metadata": {},
   "outputs": [],
   "source": [
    "write_file(\"C:\\\\Users\\\\Administrator\\\\Desktop\\\\数学建模\\\\reset-data.csv\",reset_data[:,:12],835,12)\n",
    "write_file(\"C:\\\\Users\\\\Administrator\\\\Desktop\\\\数学建模\\\\reset-svm.csv\",reset_data,835,13)\n"
   ]
  },
  {
   "cell_type": "code",
   "execution_count": 129,
   "metadata": {},
   "outputs": [
    {
     "data": {
      "image/png": "[encoded data removed]",
      "text/plain": [
       "<matplotlib.figure.Figure at 0x13564bb7860>"
      ]
     },
     "metadata": {},
     "output_type": "display_data"
    }
   ],
   "source": [
    "import numpy as np\n",
    "loss_point=np.genfromtxt(\"/home/scs4450/PycharmProjects/数学建模/loss_point\",dtype=float,delimiter=',')\n",
    "loss_point1=np.genfromtxt(\"/home/scs4450/PycharmProjects/数学建模/loss_point1\",dtype=float,delimiter=',')\n",
    "loss_point2=np.genfromtxt(\"/home/scs4450/PycharmProjects/数学建模/loss_point2\",dtype=float,delimiter=',')\n",
    "x_data=np.linspace(0,50,num=50)\n",
    "loss_point/=835.0\n",
    "x_data*=200\n",
    "plt.plot(x_data,loss_point,label=\"MLP\",color=\"red\",linewidth=2)\n",
    "plt.plot(x_data,loss_point1,label=\"shallow MLP\",color=\"green\",linewidth=2)\n",
    "plt.plot(x_data,loss_point2,label=\"multiple regression\",color=\"blue\",linewidth=1)\n",
    "plt.xlabel(\"The epoch\")\n",
    "plt.ylabel(\"loss\")\n",
    "plt.title(\"The loss of training\")\n",
    "plt.legend()  \n",
    "plt.savefig(\"loss.png\")\n",
    "\n",
    "plt.show()"
   ]
  },
  {
   "cell_type": "code",
   "execution_count": null,
   "metadata": {},
   "outputs": [],
   "source": [
    "from sklearn import svm\n",
    "all_train_data_x=all_data_train[:,:13]\n",
    "all_train_data_label=all_data_train[:,-1]\n",
    "clf = svm.SVC()\n",
    "clf.fit(all_train_data_x,all_train_data_label)"
   ]
  }
 ],
 "metadata": {
  "kernelspec": {
   "display_name": "Python 2",
   "language": "python",
   "name": "python2"
  },
  "language_info": {
   "codemirror_mode": {
    "name": "ipython",
    "version": 2.0
   },
   "file_extension": ".py",
   "mimetype": "text/x-python",
   "name": "python",
   "nbconvert_exporter": "python",
   "pygments_lexer": "ipython2",
   "version": "2.7.6"
  }
 },
 "nbformat": 4,
 "nbformat_minor": 0
}