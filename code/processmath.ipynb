{
 "cells": [
  {
   "cell_type": "code",
   "execution_count": 1,
   "metadata": {
    "collapsed": true
   },
   "outputs": [
    {
     "name": "stdout",
     "output_type": "stream",
     "text": [
      "(512, 180)\n"
     ]
    }
   ],
   "source": [
    "import numpy as np\n",
    "data2=np.genfromtxt(\"/home/zzq/mathmodel/A/a-2.csv\",dtype=float,delimiter=',')\n",
    "print data2.shape"
   ]
  },
  {
   "cell_type": "code",
   "execution_count": 2,
   "metadata": {},
   "outputs": [
    {
     "name": "stdout",
     "output_type": "stream",
     "text": [
      "(256, 256)\n"
     ]
    }
   ],
   "source": [
    "data1=np.genfromtxt(\"/home/zzq/mathmodel/A/a-1.csv\",dtype=float,delimiter=',')\n",
    "print data1.shape\n",
    "#意思就是指点阵上是256*256"
   ]
  },
  {
   "cell_type": "code",
   "execution_count": 3,
   "metadata": {},
   "outputs": [
    {
     "name": "stdout",
     "output_type": "stream",
     "text": [
      "(512, 180)\n"
     ]
    }
   ],
   "source": [
    "data3=np.genfromtxt(\"/home/zzq/mathmodel/A/a-3.csv\",dtype=float,delimiter=',')\n",
    "print data3.shape"
   ]
  },
  {
   "cell_type": "code",
   "execution_count": 4,
   "metadata": {},
   "outputs": [
    {
     "name": "stdout",
     "output_type": "stream",
     "text": [
      "(10, 2)\n"
     ]
    }
   ],
   "source": [
    "data4=np.genfromtxt(\"/home/zzq/mathmodel/A/a-4.csv\",dtype=float,delimiter=',')\n",
    "print data4.shape\n",
    "#10个坐标值"
   ]
  },
  {
   "cell_type": "code",
   "execution_count": 5,
   "metadata": {},
   "outputs": [
    {
     "name": "stdout",
     "output_type": "stream",
     "text": [
      "(512, 180)\n"
     ]
    }
   ],
   "source": [
    "data5=np.genfromtxt(\"/home/zzq/mathmodel/A/a-5.csv\",dtype=float,delimiter=',')\n",
    "print data5.shape"
   ]
  },
  {
   "cell_type": "code",
   "execution_count": 6,
   "metadata": {},
   "outputs": [
    {
     "name": "stdout",
     "output_type": "stream",
     "text": [
      "(836, 5)\n"
     ]
    }
   ],
   "source": [
    "dataa_1=np.genfromtxt(\"/home/zzq/mathmodel/B/b-1.csv\",dtype=float,delimiter=',')\n",
    "print dataa_1.shape"
   ]
  },
  {
   "cell_type": "code",
   "execution_count": 7,
   "metadata": {},
   "outputs": [
    {
     "name": "stdout",
     "output_type": "stream",
     "text": [
      "(1878, 5)\n"
     ]
    }
   ],
   "source": [
    "dataa_2=np.genfromtxt(\"/home/zzq/mathmodel/B/b-2.csv\",dtype=float,delimiter=',')\n",
    "print dataa_2.shape"
   ]
  },
  {
   "cell_type": "code",
   "execution_count": 8,
   "metadata": {},
   "outputs": [
    {
     "name": "stdout",
     "output_type": "stream",
     "text": [
      "(2067, 3)\n"
     ]
    }
   ],
   "source": [
    "dataa_3=np.genfromtxt(\"/home/zzq/mathmodel/B/b-3.csv\",dtype=float,delimiter=',')\n",
    "print dataa_3.shape"
   ]
  },
  {
   "cell_type": "code",
   "execution_count": 9,
   "metadata": {},
   "outputs": [
    {
     "name": "stdout",
     "output_type": "stream",
     "text": [
      "(835, 4)\n"
     ]
    }
   ],
   "source": [
    "process_a_1=dataa_1[1:,1:]\n",
    "print process_a_1.shape"
   ]
  },
  {
   "cell_type": "code",
   "execution_count": 10,
   "metadata": {},
   "outputs": [
    {
     "name": "stdout",
     "output_type": "stream",
     "text": [
      "[  22.56614225  113.98083678   66.            0.        ]\n"
     ]
    }
   ],
   "source": [
    "print process_a_1[0]"
   ]
  },
  {
   "cell_type": "code",
   "execution_count": 12,
   "metadata": {},
   "outputs": [
    {
     "name": "stdout",
     "output_type": "stream",
     "text": [
      "23.8783980647\n"
     ]
    }
   ],
   "source": [
    "print process_a_1[:,0].max()"
   ]
  },
  {
   "cell_type": "code",
   "execution_count": 13,
   "metadata": {},
   "outputs": [
    {
     "name": "stdout",
     "output_type": "stream",
     "text": [
      "22.4930831268\n"
     ]
    }
   ],
   "source": [
    "print process_a_1[:,0].min()\n",
    "#经度的最大最小值"
   ]
  },
  {
   "cell_type": "code",
   "execution_count": 14,
   "metadata": {},
   "outputs": [
    {
     "name": "stdout",
     "output_type": "stream",
     "text": [
      "114.493609587\n112.683258303\n"
     ]
    }
   ],
   "source": [
    "#维度的最大最小值\n",
    "print process_a_1[:,1].max()\n",
    "print process_a_1[:,1].min()"
   ]
  },
  {
   "cell_type": "code",
   "execution_count": 15,
   "metadata": {},
   "outputs": [],
   "source": [
    "dict={}\n",
    "price=process_a_1[:,2]\n",
    "for i in range(len(price)):\n",
    "    if dict.has_key(price[i]):\n",
    "        dict[price[i]]+=1\n",
    "    else:\n",
    "        dict[price[i]]=1"
   ]
  },
  {
   "cell_type": "code",
   "execution_count": 16,
   "metadata": {},
   "outputs": [
    {
     "name": "stdout",
     "output_type": "stream",
     "text": [
      "23\n"
     ]
    }
   ],
   "source": [
    "print len(dict)"
   ]
  },
  {
   "cell_type": "code",
   "execution_count": 17,
   "metadata": {},
   "outputs": [
    {
     "name": "stdout",
     "output_type": "stream",
     "text": [
      "{65.5: 150, 66.5: 63, 69.5: 8, 73.5: 5, 67.5: 23, 72.5: 9, 74.5: 2, 65.0: 65, 66.0: 103, 67.0: 38, 68.0: 30, 69.0: 19, 70.0: 96, 71.0: 4, 72.0: 60, 73.0: 10, 74.0: 5, 75.0: 78, 80.0: 13, 85.0: 27, 68.5: 11, 70.5: 11, 71.5: 5}\n"
     ]
    }
   ],
   "source": [
    "print dict"
   ]
  },
  {
   "cell_type": "code",
   "execution_count": 21,
   "metadata": {},
   "outputs": [
    {
     "name": "stdout",
     "output_type": "stream",
     "text": [
      "23\n23\n"
     ]
    }
   ],
   "source": [
    "%matplotlib inline\n",
    "import numpy as np\n",
    "import matplotlib.pyplot as plt\n",
    "x=[]\n",
    "y=[]\n",
    "x=dict.keys()\n",
    "y=dict.values()\n",
    "print len(x)\n",
    "print len(y)"
   ]
  },
  {
   "cell_type": "code",
   "execution_count": null,
   "metadata": {},
   "outputs": [],
   "source": [
    ""
   ]
  },
  {
   "cell_type": "code",
   "execution_count": 47,
   "metadata": {},
   "outputs": [
    {
     "data": {
      "image/png": "[encoded data removed]",
      "text/plain": [
       "<matplotlib.figure.Figure at 0x7f3861faa450>"
      ]
     },
     "metadata": {},
     "output_type": "display_data"
    }
   ],
   "source": [
    "plt.barh(range(len(y)), y,tick_label=labels)\n",
    "plt.savefig('/home/zzq/mathmodel/B/标价图.png')\n",
    "plt.show()"
   ]
  },
  {
   "cell_type": "code",
   "execution_count": 36,
   "metadata": {},
   "outputs": [
    {
     "name": "stdout",
     "output_type": "stream",
     "text": [
      "835\n"
     ]
    }
   ],
   "source": [
    "ifdone=process_a_1[:,-1]\n",
    "print len(ifdone)"
   ]
  },
  {
   "cell_type": "code",
   "execution_count": 37,
   "metadata": {},
   "outputs": [],
   "source": [
    "havedone={}\n",
    "nothavedone={}\n",
    "ifdone=process_a_1[:,-1]\n",
    "for i in range(len(ifdone)):\n",
    "    if ifdone[i]==1:\n",
    "        if havedone.has_key(price[i]):\n",
    "            havedone[price[i]]+=1\n",
    "        else:\n",
    "            havedone[price[i]]=1\n",
    "    else:\n",
    "        if nothavedone.has_key(price[i]):\n",
    "            nothavedone[price[i]]+=1\n",
    "        else:\n",
    "            nothavedone[price[i]]=1"
   ]
  },
  {
   "cell_type": "code",
   "execution_count": 38,
   "metadata": {},
   "outputs": [
    {
     "name": "stdout",
     "output_type": "stream",
     "text": [
      "23\n23\n"
     ]
    }
   ],
   "source": [
    "print len(nothavedone)\n",
    "print len(havedone)"
   ]
  },
  {
   "cell_type": "code",
   "execution_count": 40,
   "metadata": {},
   "outputs": [
    {
     "name": "stdout",
     "output_type": "stream",
     "text": [
      "{65.5: 74, 66.5: 28, 68.5: 5, 67.5: 6, 71.5: 1, 72.5: 2, 74.5: 1, 65.0: 30, 66.0: 57, 67.0: 20, 68.0: 5, 69.0: 7, 70.0: 19, 71.0: 1, 72.0: 18, 73.0: 3, 74.0: 4, 75.0: 19, 80.0: 4, 85.0: 3, 69.5: 2, 70.5: 2, 73.5: 2}\n"
     ]
    }
   ],
   "source": [
    "print nothavedone"
   ]
  },
  {
   "cell_type": "code",
   "execution_count": 45,
   "metadata": {},
   "outputs": [
    {
     "data": {
      "image/png": "[encoded data removed]",
      "text/plain": [
       "<matplotlib.figure.Figure at 0x7f3861cfe890>"
      ]
     },
     "metadata": {},
     "output_type": "display_data"
    }
   ],
   "source": [
    "x=havedone.values()\n",
    "y=nothavedone.values()\n",
    "x=np.array(x)\n",
    "y=np.array(y)\n",
    "labels=nothavedone.keys()\n",
    "plt.barh(range(len(nothavedone)), x,tick_label=labels)\n",
    "plt.barh(range(len(havedone)), -y)\n",
    "\n",
    "plt.savefig('/home/zzq/mathmodel/B/是否成交和价钱关系.png')\n",
    "plt.show()"
   ]
  },
  {
   "cell_type": "code",
   "execution_count": 76,
   "metadata": {},
   "outputs": [],
   "source": [
    "x=process_a_1[:,0]\n",
    "y=process_a_1[:,1]\n",
    "max_x=x.max()\n",
    "min_x=x.min()\n",
    "max_y=y.max()\n",
    "min_y=y.min()\n",
    "x_point=[]\n",
    "y_point=[]\n",
    "for i in range(len(x)):\n",
    "    x_point.append(int((x[i]-min_x)/(max_x-min_x)*256))\n",
    "    y_point.append(int((y[i]-min_y)/(max_y-min_y)*256))"
   ]
  },
  {
   "cell_type": "code",
   "execution_count": 77,
   "metadata": {},
   "outputs": [],
   "source": [
    "matrix=np.zeros((256,256))\n",
    "for i in range(len(x)):\n",
    "    matrix[x_point[i]-1][y_point[i]-1]+=1"
   ]
  },
  {
   "cell_type": "code",
   "execution_count": 79,
   "metadata": {},
   "outputs": [
    {
     "name": "stdout",
     "output_type": "stream",
     "text": [
      "4.0\n"
     ]
    }
   ],
   "source": [
    "print np.max(matrix)"
   ]
  },
  {
   "cell_type": "code",
   "execution_count": 81,
   "metadata": {},
   "outputs": [],
   "source": [
    "for i in range(256):\n",
    "    for j in range(256):\n",
    "        matrix[i][j]=(matrix[i][j]/4.0)*255.0"
   ]
  },
  {
   "cell_type": "code",
   "execution_count": 82,
   "metadata": {},
   "outputs": [
    {
     "name": "stdout",
     "output_type": "stream",
     "text": [
      "(256, 256)\n<type 'numpy.ndarray'>\n"
     ]
    }
   ],
   "source": [
    "print np.shape(matrix)\n",
    "print type(matrix)\n",
    "matrix_back=matrix"
   ]
  },
  {
   "cell_type": "code",
   "execution_count": 83,
   "metadata": {},
   "outputs": [],
   "source": [
    "from pylab import *\n",
    "from PIL import Image\n",
    "from skimage import io,data\n",
    "im=Image.fromarray(matrix_back).convert('L')\n",
    "im.save('/home/zzq/mathmodel/B/交易区域图.png')"
   ]
  },
  {
   "cell_type": "code",
   "execution_count": 88,
   "metadata": {},
   "outputs": [
    {
     "data": {
      "image/png": "[encoded data removed]",
      "text/plain": [
       "<matplotlib.figure.Figure at 0x7f38625d49d0>"
      ]
     },
     "metadata": {},
     "output_type": "display_data"
    }
   ],
   "source": [
    "data2=np.genfromtxt(\"/home/zzq/mathmodel/B/b-2.csv\",dtype=float,delimiter=',')\n",
    "y=data2[1:,4]\n",
    "x=np.linspace(0,1877,num=1877)\n",
    "plt.plot(x, y)\n",
    "plt.xlabel('members')\n",
    "plt.ylabel('Reputation value')\n",
    "title('The asocciation')\n",
    "plt.savefig('/home/zzq/mathmodel/B/会员信誉值.png')"
   ]
  },
  {
   "cell_type": "code",
   "execution_count": 101,
   "metadata": {},
   "outputs": [
    {
     "data": {
      "image/png": "[encoded data removed]",
      "text/plain": [
       "<matplotlib.figure.Figure at 0x7f3861e179d0>"
      ]
     },
     "metadata": {},
     "output_type": "display_data"
    }
   ],
   "source": [
    "data2=np.genfromtxt(\"/home/zzq/mathmodel/B/b-2.csv\",dtype=float,delimiter=',')\n",
    "y=data2[1:,2]\n",
    "x=np.linspace(0,1877,num=1877)\n",
    "plt.scatter(x, y)\n",
    "plt.xlabel('members')\n",
    "plt.ylabel('distribution')\n",
    "title('The asocciation')\n",
    "plt.savefig('/home/zzq/mathmodel/B/会员预订任务限额散点图.png')"
   ]
  },
  {
   "cell_type": "code",
   "execution_count": 124,
   "metadata": {},
   "outputs": [],
   "source": [
    "def location(x,y,pixel,name):\n",
    "    max_x=x.max()\n",
    "    min_x=x.min()\n",
    "    max_y=y.max()\n",
    "    min_y=y.min()\n",
    "    x_point=[]\n",
    "    y_point=[]\n",
    "    for i in range(len(x)):\n",
    "        x_point.append(int((x[i]-min_x)/(max_x-min_x)*256))\n",
    "        y_point.append(int((y[i]-min_y)/(max_y-min_y)*256))\n",
    "    matrix_=np.zeros((pixel,pixel))\n",
    "    for i in range(len(x)):\n",
    "        matrix_[x_point[i]-1][y_point[i]-1]+=1\n",
    "    for i in range(pixel):\n",
    "        for j in range(pixel):\n",
    "            matrix_[i][j]=(matrix_[i][j]/np.max(matrix_))*255.0\n",
    "    matrix_back=matrix_\n",
    "    im=Image.fromarray(matrix_back).convert('L')\n",
    "    im.save(name)"
   ]
  },
  {
   "cell_type": "code",
   "execution_count": 102,
   "metadata": {},
   "outputs": [
    {
     "name": "stdout",
     "output_type": "stream",
     "text": [
      "['22.947097 113.679983' '22.577792 113.966524' '23.192458 113.347272' ...,\n '23.333446 113.301736' '22.693506 113.994101' '23.133238 113.239864']\n"
     ]
    }
   ],
   "source": [
    "data2=np.genfromtxt(\"/home/zzq/mathmodel/B/b-2.csv\",dtype=str,delimiter=',')\n",
    "x=data2[1:,1]\n",
    "print x"
   ]
  },
  {
   "cell_type": "code",
   "execution_count": 117,
   "metadata": {},
   "outputs": [],
   "source": [
    "my_x=[]\n",
    "my_y=[]\n",
    "for i in range(len(x)):\n",
    "    nn=x[i].split(' ')\n",
    "    x_=float(nn[0])\n",
    "    y_=float(nn[1])\n",
    "    if x_<24 and y_<115: \n",
    "        my_x.append(x_)\n",
    "        my_y.append(y_)\n",
    "        continue"
   ]
  },
  {
   "cell_type": "code",
   "execution_count": 118,
   "metadata": {},
   "outputs": [
    {
     "name": "stdout",
     "output_type": "stream",
     "text": [
      "1870\n1870\n22.262784\n"
     ]
    }
   ],
   "source": [
    "print len(my_x)\n",
    "print len(my_y)\n",
    "print my_x[4]"
   ]
  },
  {
   "cell_type": "code",
   "execution_count": 125,
   "metadata": {},
   "outputs": [],
   "source": [
    "my_x=np.array(my_x)\n",
    "my_y=np.array(my_y)\n",
    "location(my_x,my_y,256,'/home/zzq/mathmodel/B/会员位置图.png')"
   ]
  },
  {
   "cell_type": "code",
   "execution_count": 128,
   "metadata": {},
   "outputs": [],
   "source": [
    "data3=np.genfromtxt(\"/home/zzq/mathmodel/B/b-3.csv\",dtype=float,delimiter=',')\n",
    "x=data3[1:,1]\n",
    "y=data3[1:,2]\n",
    "\n",
    "location(x,y,256,'/home/zzq/mathmodel/B/分配位置图.png')"
   ]
  },
  {
   "cell_type": "code",
   "execution_count": 1,
   "metadata": {},
   "outputs": [
    {
     "ename": "NameError",
     "evalue": "name 'np' is not defined",
     "traceback": [
      "\u001b[0;31m\u001b[0m",
      "\u001b[0;31mNameError\u001b[0mTraceback (most recent call last)",
      "\u001b[0;32m<ipython-input-1-2c401bdfab59>\u001b[0m in \u001b[0;36m<module>\u001b[0;34m()\u001b[0m\n\u001b[0;32m----> 1\u001b[0;31m \u001b[0mdata1\u001b[0m\u001b[0;34m=\u001b[0m\u001b[0mnp\u001b[0m\u001b[0;34m.\u001b[0m\u001b[0mgenfromtxt\u001b[0m\u001b[0;34m(\u001b[0m\u001b[0;34m\"/home/zzq/mathmodel/B/b-1.csv\"\u001b[0m\u001b[0;34m,\u001b[0m\u001b[0mdtype\u001b[0m\u001b[0;34m=\u001b[0m\u001b[0mfloat\u001b[0m\u001b[0;34m,\u001b[0m\u001b[0mdelimiter\u001b[0m\u001b[0;34m=\u001b[0m\u001b[0;34m','\u001b[0m\u001b[0;34m)\u001b[0m\u001b[0;34m\u001b[0m\u001b[0m\n\u001b[0m\u001b[1;32m      2\u001b[0m \u001b[0mx\u001b[0m\u001b[0;34m=\u001b[0m\u001b[0mdata1\u001b[0m\u001b[0;34m[\u001b[0m\u001b[0;36m1\u001b[0m\u001b[0;34m:\u001b[0m\u001b[0;34m,\u001b[0m\u001b[0;36m1\u001b[0m\u001b[0;34m]\u001b[0m\u001b[0;34m\u001b[0m\u001b[0m\n\u001b[1;32m      3\u001b[0m \u001b[0my\u001b[0m\u001b[0;34m=\u001b[0m\u001b[0mdata1\u001b[0m\u001b[0;34m[\u001b[0m\u001b[0;36m1\u001b[0m\u001b[0;34m:\u001b[0m\u001b[0;34m,\u001b[0m\u001b[0;36m2\u001b[0m\u001b[0;34m]\u001b[0m\u001b[0;34m\u001b[0m\u001b[0m\n\u001b[1;32m      4\u001b[0m \u001b[0mz\u001b[0m\u001b[0;34m=\u001b[0m\u001b[0mdata1\u001b[0m\u001b[0;34m[\u001b[0m\u001b[0;36m1\u001b[0m\u001b[0;34m:\u001b[0m\u001b[0;34m,\u001b[0m\u001b[0;36m3\u001b[0m\u001b[0;34m]\u001b[0m\u001b[0;34m\u001b[0m\u001b[0m\n\u001b[1;32m      5\u001b[0m \u001b[0;32mfrom\u001b[0m \u001b[0mmpl_toolkits\u001b[0m\u001b[0;34m.\u001b[0m\u001b[0mmplot3d\u001b[0m \u001b[0;32mimport\u001b[0m \u001b[0mAxes3D\u001b[0m\u001b[0;34m\u001b[0m\u001b[0m\n",
      "\u001b[0;31mNameError\u001b[0m: name 'np' is not defined"
     ],
     "output_type": "error"
    }
   ],
   "source": [
    "data1=np.genfromtxt(\"/home/zzq/mathmodel/B/b-1.csv\",dtype=float,delimiter=',')\n",
    "x=data1[1:,1]\n",
    "y=data1[1:,2]\n",
    "z=data1[1:,3]\n",
    "from mpl_toolkits.mplot3d import Axes3D\n",
    "fig = plt.figure()\n",
    "ax = Axes3D(fig)\n",
    "x,y = np.meshgrid(x, y)\n",
    "ax.plot_surface(x, y, z, rstride=1, cstride=1, cmap='rainbow')"
   ]
  },
  {
   "cell_type": "code",
   "execution_count": null,
   "metadata": {},
   "outputs": [],
   "source": [
    ""
   ]
  }
 ],
 "metadata": {
  "kernelspec": {
   "display_name": "Python 2",
   "language": "python",
   "name": "python2"
  },
  "language_info": {
   "codemirror_mode": {
    "name": "ipython",
    "version": 2.0
   },
   "file_extension": ".py",
   "mimetype": "text/x-python",
   "name": "python",
   "nbconvert_exporter": "python",
   "pygments_lexer": "ipython2",
   "version": "2.7.6"
  }
 },
 "nbformat": 4,
 "nbformat_minor": 0
}