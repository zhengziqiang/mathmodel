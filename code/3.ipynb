{
 "cells": [
  {
   "cell_type": "code",
   "execution_count": 3,
   "metadata": {
    "collapsed": true
   },
   "outputs": [],
   "source": [
    "import numpy as np\n",
    "def normalize(x):\n",
    "    min_x=np.min(x)\n",
    "    max_x=np.max(x)\n",
    "    for i in range(len(x)):\n",
    "        x[i]=(x[i]-min_x)/(max_x-min_x)\n",
    "    return x\n",
    "reset_data=np.genfromtxt(\"/home/scs4450/PycharmProjects/数学建模/3-reset.csv\",dtype=float,delimiter=',')"
   ]
  },
  {
   "cell_type": "code",
   "execution_count": 4,
   "metadata": {},
   "outputs": [],
   "source": [
    "reset_data=reset_data[1:,3:np.shape(reset_data)[1]-1]"
   ]
  },
  {
   "cell_type": "code",
   "execution_count": 5,
   "metadata": {},
   "outputs": [],
   "source": [
    "for i in range(np.shape(reset_data)[1]):\n",
    "    reset_data[:,i]=normalize(reset_data[:,i])"
   ]
  },
  {
   "cell_type": "code",
   "execution_count": 6,
   "metadata": {},
   "outputs": [
    {
     "name": "stdout",
     "output_type": "stream",
     "text": [
      "[ 0.04175208  0.55698993  0.43043936  0.02213871         nan  0.16097064\n  0.00896586  0.          0.08950243  0.64671438  0.37131459]\n"
     ]
    }
   ],
   "source": [
    "print reset_data[0,:]"
   ]
  },
  {
   "cell_type": "code",
   "execution_count": 7,
   "metadata": {},
   "outputs": [],
   "source": [
    "reset_data[:,4]=0.183213811421"
   ]
  },
  {
   "cell_type": "code",
   "execution_count": 8,
   "metadata": {},
   "outputs": [
    {
     "name": "stdout",
     "output_type": "stream",
     "text": [
      "[ 0.05731554  0.53827068  0.87340019  0.02400038  0.18321381  0.13501292\n  0.01315232  0.          0.10585433  0.62564725  0.33936287]\n"
     ]
    }
   ],
   "source": [
    "print reset_data[1,:]"
   ]
  },
  {
   "cell_type": "code",
   "execution_count": 9,
   "metadata": {},
   "outputs": [],
   "source": [
    "with open(\"3-reset.csv\",\"w\") as foo:\n",
    "    np.savetxt(foo,reset_data,delimiter=',')"
   ]
  },
  {
   "cell_type": "code",
   "execution_count": 10,
   "metadata": {},
   "outputs": [
    {
     "name": "stdout",
     "output_type": "stream",
     "text": [
      "(730, 11)\n"
     ]
    }
   ],
   "source": [
    "print reset_data.shape"
   ]
  },
  {
   "cell_type": "code",
   "execution_count": null,
   "metadata": {},
   "outputs": [],
   "source": [
    ""
   ]
  }
 ],
 "metadata": {
  "kernelspec": {
   "display_name": "Python 2",
   "language": "python",
   "name": "python2"
  },
  "language_info": {
   "codemirror_mode": {
    "name": "ipython",
    "version": 2.0
   },
   "file_extension": ".py",
   "mimetype": "text/x-python",
   "name": "python",
   "nbconvert_exporter": "python",
   "pygments_lexer": "ipython2",
   "version": "2.7.6"
  }
 },
 "nbformat": 4,
 "nbformat_minor": 0
}